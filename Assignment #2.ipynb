{
 "cells": [
  {
   "cell_type": "code",
   "execution_count": 7,
   "metadata": {},
   "outputs": [
    {
     "name": "stdout",
     "output_type": "stream",
     "text": [
      "enter your maths marks:56\n",
      "enter your chemistry marks:43\n",
      "enter your physics marks:87\n",
      "enter your urdu marks:99\n",
      "enter your islamiat marks:54\n",
      "total: 339\n",
      "C\n"
     ]
    }
   ],
   "source": [
    "a = int(input(\"enter your maths marks:\"))\n",
    "b = int(input(\"enter your chemistry marks:\"))\n",
    "c = int(input(\"enter your physics marks:\"))\n",
    "d = int(input(\"enter your urdu marks:\"))\n",
    "e =int(input(\"enter your islamiat marks:\"))\n",
    "total = a + b + c + d + e\n",
    "print(\"total:\",total)\n",
    "avg = total/5\n",
    "if avg >= 80 :\n",
    "    print(\"A\")\n",
    "elif avg >= 70 and avg < 80 :\n",
    "    print(\"B\")\n",
    "elif avg >= 60 and avg < 70 :\n",
    "    print(\"C\")\n",
    "elif avg >= 60 and avg < 50 :\n",
    "    print(\"D\")\n",
    "else :\n",
    "    print(\"FAIL\")\n",
    "    "
   ]
  },
  {
   "cell_type": "code",
   "execution_count": 11,
   "metadata": {},
   "outputs": [
    {
     "name": "stdout",
     "output_type": "stream",
     "text": [
      "enter number6\n",
      "even\n"
     ]
    }
   ],
   "source": [
    "a = int(input(\"enter number:\"))\n",
    "num = a % 2\n",
    "if num > 0 :\n",
    "    print(\"odd\")\n",
    "else:\n",
    "    print(\"even\")\n"
   ]
  },
  {
   "cell_type": "code",
   "execution_count": 12,
   "metadata": {},
   "outputs": [
    {
     "name": "stdout",
     "output_type": "stream",
     "text": [
      "the length of the list is: 6\n"
     ]
    }
   ],
   "source": [
    "a = [\"ali\",\"haider\",\"salman\",25,False,0.9]\n",
    "print(\"the length of the list is:\",len(a))"
   ]
  },
  {
   "cell_type": "code",
   "execution_count": 13,
   "metadata": {},
   "outputs": [
    {
     "data": {
      "text/plain": [
       "64"
      ]
     },
     "execution_count": 13,
     "metadata": {},
     "output_type": "execute_result"
    }
   ],
   "source": [
    "a = [2,3,23,23,4,9]\n",
    "sum(a)\n"
   ]
  },
  {
   "cell_type": "code",
   "execution_count": 14,
   "metadata": {},
   "outputs": [
    {
     "data": {
      "text/plain": [
       "23"
      ]
     },
     "execution_count": 14,
     "metadata": {},
     "output_type": "execute_result"
    }
   ],
   "source": [
    "a = [2,3,23,23,4,9]\n",
    "max(a)"
   ]
  },
  {
   "cell_type": "code",
   "execution_count": 24,
   "metadata": {},
   "outputs": [
    {
     "ename": "SyntaxError",
     "evalue": "invalid syntax (<ipython-input-24-8cc0619db55f>, line 2)",
     "output_type": "error",
     "traceback": [
      "\u001b[1;36m  File \u001b[1;32m\"<ipython-input-24-8cc0619db55f>\"\u001b[1;36m, line \u001b[1;32m2\u001b[0m\n\u001b[1;33m    b = a[>5]\u001b[0m\n\u001b[1;37m          ^\u001b[0m\n\u001b[1;31mSyntaxError\u001b[0m\u001b[1;31m:\u001b[0m invalid syntax\n"
     ]
    }
   ],
   "source": [
    "a = [1, 1, 2, 3, 5, 8, 13, 21, 34, 55, 89]\n",
    "b = a[]\n",
    "print(b)\n",
    "\n",
    "\n",
    "\n",
    "\n"
   ]
  },
  {
   "cell_type": "code",
   "execution_count": null,
   "metadata": {},
   "outputs": [],
   "source": []
  },
  {
   "cell_type": "code",
   "execution_count": null,
   "metadata": {},
   "outputs": [],
   "source": []
  },
  {
   "cell_type": "code",
   "execution_count": null,
   "metadata": {},
   "outputs": [],
   "source": []
  },
  {
   "cell_type": "code",
   "execution_count": null,
   "metadata": {},
   "outputs": [],
   "source": []
  },
  {
   "cell_type": "code",
   "execution_count": null,
   "metadata": {},
   "outputs": [],
   "source": []
  }
 ],
 "metadata": {
  "kernelspec": {
   "display_name": "Python 3",
   "language": "python",
   "name": "python3"
  },
  "language_info": {
   "codemirror_mode": {
    "name": "ipython",
    "version": 3
   },
   "file_extension": ".py",
   "mimetype": "text/x-python",
   "name": "python",
   "nbconvert_exporter": "python",
   "pygments_lexer": "ipython3",
   "version": "3.7.4"
  }
 },
 "nbformat": 4,
 "nbformat_minor": 2
}
