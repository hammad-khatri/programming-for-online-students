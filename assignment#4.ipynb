{
 "cells": [
  {
   "cell_type": "code",
   "execution_count": 6,
   "metadata": {},
   "outputs": [
    {
     "name": "stdout",
     "output_type": "stream",
     "text": [
      "{'first_name': 'Hammad', 'last_name': 'Khatri', 'age': '20', 'city': 'Karachi'}\n"
     ]
    }
   ],
   "source": [
    "person = {\n",
    "    \"first_name\": \"Hammad\",\n",
    "    \"last_name\": \"Khatri\",\n",
    "    \"age\": \"20\",\n",
    "    \"city\": \"Karachi\"\n",
    "}\n",
    "person\n",
    "person[\"qualification\"] = \"Bachelors\"\n",
    "person\n",
    "del person[\"qualification\"]\n",
    "print(person)"
   ]
  },
  {
   "cell_type": "code",
   "execution_count": 7,
   "metadata": {
    "scrolled": true
   },
   "outputs": [
    {
     "name": "stdout",
     "output_type": "stream",
     "text": [
      "{'country': 'Pakistan', 'population': '11.13 Million', 'fact': 'known as Gardens Of the Mughals'}\n",
      "{'country': 'Pakistan', 'population': '14.91 Million', 'fact': 'One of the cheapest city to live in'}\n",
      "{'country': 'UAE', 'population': '3.137 Million'}\n"
     ]
    }
   ],
   "source": [
    "cities = {\n",
    "    \"Lahore\":{\n",
    "        \"country\": \"Pakistan\",\n",
    "        \"population\": \"11.13 Million\",\n",
    "        \"fact\": \"known as Gardens Of the Mughals\",\n",
    "    },\n",
    "    \"Karachi\": {\n",
    "        \"country\": \"Pakistan\",\n",
    "        \"population\": \"14.91 Million\",\n",
    "        \"fact\": \"One of the cheapest city to live in\",\n",
    "    },\n",
    "    \"Dubai\":{\n",
    "        \"country\": \"UAE\",\n",
    "        \"population\": \"3.137 Million\"\n",
    "    }\n",
    "}\n",
    "print(cities[\"Lahore\"])\n",
    "print(cities[\"Karachi\"])\n",
    "print(cities[\"Dubai\"])\n"
   ]
  },
  {
   "cell_type": "code",
   "execution_count": 10,
   "metadata": {},
   "outputs": [
    {
     "name": "stdout",
     "output_type": "stream",
     "text": [
      "Enter you age13\n",
      "Ticket price is $15\n"
     ]
    }
   ],
   "source": [
    "age = int(input(\"Enter you age:\"))\n",
    "if age <= 3:\n",
    "    print(\"The ticket is free\")\n",
    "if age > 3 and age <= 12:\n",
    "    print(\"Ticket price is $10\")\n",
    "if age > 12:\n",
    "    print(\"Ticket price is $15\")"
   ]
  },
  {
   "cell_type": "code",
   "execution_count": 13,
   "metadata": {},
   "outputs": [
    {
     "name": "stdout",
     "output_type": "stream",
     "text": [
      "One of my favourite book is Alice in Wonderland\n"
     ]
    }
   ],
   "source": [
    "def favourite_book(title):\n",
    "    print(\"One of my favourite book is\",title)\n",
    "favourite_book(\"Alice in Wonderland\")    "
   ]
  },
  {
   "cell_type": "code",
   "execution_count": 43,
   "metadata": {},
   "outputs": [
    {
     "name": "stdout",
     "output_type": "stream",
     "text": [
      "Guess the number:2\n",
      "Your guess is correct\n",
      "Guess the number:3\n",
      "Your guess is too high\n",
      "Guess the number:1\n",
      "Your guess is correct\n"
     ]
    }
   ],
   "source": [
    "import random \n",
    "count = 0\n",
    "while count < 3 :\n",
    "    x = int(input(\"Guess the number:\"))\n",
    "    r = random.randint(1,3)\n",
    "    count += 1\n",
    "    if x == r:\n",
    "        print(\"Your guess is correct\")\n",
    "    elif x > r :\n",
    "        print(\"Your guess is too high\")\n",
    "    elif x < r:\n",
    "        print(\"your guess is too low\")\n",
    "            \n",
    "        \n",
    "        \n",
    "    \n",
    "\n",
    "\n"
   ]
  }
 ],
 "metadata": {
  "kernelspec": {
   "display_name": "Python 3",
   "language": "python",
   "name": "python3"
  },
  "language_info": {
   "codemirror_mode": {
    "name": "ipython",
    "version": 3
   },
   "file_extension": ".py",
   "mimetype": "text/x-python",
   "name": "python",
   "nbconvert_exporter": "python",
   "pygments_lexer": "ipython3",
   "version": "3.7.4"
  }
 },
 "nbformat": 4,
 "nbformat_minor": 2
}
