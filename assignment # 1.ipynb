{
 "cells": [
  {
   "cell_type": "code",
   "execution_count": 4,
   "metadata": {},
   "outputs": [
    {
     "name": "stdout",
     "output_type": "stream",
     "text": [
      "Twinkle, twinkle, little star,\n",
      "      How I wonder what you are!\n",
      "             Up above the world so high,\n",
      "             Like a diamond in the sky.\n",
      "Twinkle, twinkle, little star,\n",
      "      How I wonder what you are\n"
     ]
    }
   ],
   "source": [
    "print(\"Twinkle, twinkle, little star,\")\n",
    "print(\"      \"\"How I wonder what you are!\")\n",
    "print(\"             \"\"Up above the world so high,\")\n",
    "print(\"             \"\"Like a diamond in the sky.\")\n",
    "print(\"Twinkle, twinkle, little star,\")\n",
    "print(\"      \"\"How I wonder what you are\")\n"
   ]
  },
  {
   "cell_type": "code",
   "execution_count": 5,
   "metadata": {},
   "outputs": [
    {
     "name": "stdout",
     "output_type": "stream",
     "text": [
      "python version: 3.7\n"
     ]
    }
   ],
   "source": [
    "python_version = 3.7\n",
    "print(\"python version:\",python_version)\n"
   ]
  },
  {
   "cell_type": "code",
   "execution_count": 1,
   "metadata": {
    "scrolled": true
   },
   "outputs": [
    {
     "name": "stdout",
     "output_type": "stream",
     "text": [
      "current date = 11/2/2019\n",
      "current time = 12.30 AM\n"
     ]
    }
   ],
   "source": [
    "date = \"11/2/2019\"\n",
    "time = \"12.30 AM\"\n",
    "print(\"current date =\",date)\n",
    "print(\"current time =\",time)\n",
    "    "
   ]
  },
  {
   "cell_type": "code",
   "execution_count": 9,
   "metadata": {},
   "outputs": [
    {
     "name": "stdout",
     "output_type": "stream",
     "text": [
      "Enter your value:5\n",
      "78.55\n"
     ]
    }
   ],
   "source": [
    "r = int(input(\"Enter your value:\"))\n",
    "A = 3.142*r**2\n",
    "print(A)"
   ]
  },
  {
   "cell_type": "code",
   "execution_count": 11,
   "metadata": {},
   "outputs": [
    {
     "name": "stdout",
     "output_type": "stream",
     "text": [
      "Enter you first name:Hammad\n",
      "Enter your last name:Hanif\n",
      "Hanif Hammad\n"
     ]
    }
   ],
   "source": [
    "first_name = input(\"Enter you first name:\")\n",
    "last_name = input(\"Enter your last name:\")\n",
    "print(last_name,\"\" + first_name)"
   ]
  },
  {
   "cell_type": "code",
   "execution_count": 14,
   "metadata": {},
   "outputs": [
    {
     "name": "stdout",
     "output_type": "stream",
     "text": [
      "Enter first number:5\n",
      "Enter second number:6\n",
      "11\n"
     ]
    }
   ],
   "source": [
    "x = int(input(\"Enter first number:\"))\n",
    "y = int(input(\"Enter second number:\"))\n",
    "z = x + y\n",
    "print(z)"
   ]
  },
  {
   "cell_type": "code",
   "execution_count": null,
   "metadata": {},
   "outputs": [],
   "source": []
  },
  {
   "cell_type": "code",
   "execution_count": null,
   "metadata": {},
   "outputs": [],
   "source": []
  }
 ],
 "metadata": {
  "kernelspec": {
   "display_name": "Python 3",
   "language": "python",
   "name": "python3"
  },
  "language_info": {
   "codemirror_mode": {
    "name": "ipython",
    "version": 3
   },
   "file_extension": ".py",
   "mimetype": "text/x-python",
   "name": "python",
   "nbconvert_exporter": "python",
   "pygments_lexer": "ipython3",
   "version": "3.7.4"
  }
 },
 "nbformat": 4,
 "nbformat_minor": 2
}
